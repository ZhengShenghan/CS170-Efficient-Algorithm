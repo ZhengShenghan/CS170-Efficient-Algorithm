{
 "cells": [
  {
   "cell_type": "code",
   "execution_count": 1,
   "metadata": {},
   "outputs": [],
   "source": [
    "def fib(n):\n",
    "    if n<=1: \n",
    "        return n\n",
    "    else:\n",
    "        return fib(n-1) + fib(n-2)"
   ]
  },
  {
   "cell_type": "code",
   "execution_count": 3,
   "metadata": {},
   "outputs": [
    {
     "data": {
      "text/plain": [
       "610"
      ]
     },
     "execution_count": 3,
     "metadata": {},
     "output_type": "execute_result"
    }
   ],
   "source": [
    "fib(15)"
   ]
  },
  {
   "cell_type": "code",
   "execution_count": 4,
   "metadata": {},
   "outputs": [],
   "source": [
    "def fibMemo(n, mem):\n",
    "    if n<=1:\n",
    "        return n\n",
    "    elif mem[n]!=None:\n",
    "        return mem[n]\n",
    "    else:\n",
    "        mem[n] = fibMemo(n-1,mem) + fibMemo(n-2,mem)\n",
    "        return mem[n]\n",
    "\n",
    "def fibFast(n):\n",
    "    mem = [None]*(n+1)\n",
    "    return fibMemo(n, mem)"
   ]
  },
  {
   "cell_type": "code",
   "execution_count": 5,
   "metadata": {},
   "outputs": [
    {
     "data": {
      "text/plain": [
       "354224848179261915075"
      ]
     },
     "execution_count": 5,
     "metadata": {},
     "output_type": "execute_result"
    }
   ],
   "source": [
    "fibFast(100)\n"
   ]
  },
  {
   "cell_type": "code",
   "execution_count": 6,
   "metadata": {},
   "outputs": [],
   "source": [
    "def fibBottomUp(n):\n",
    "    mem = [None]*(n+1)\n",
    "    mem[0] = 0\n",
    "    mem[1] = 1\n",
    "    for i in range(2, n+1):\n",
    "        mem[i] = mem[i-1] + mem[i-2]\n",
    "    return mem[n]"
   ]
  },
  {
   "cell_type": "code",
   "execution_count": 7,
   "metadata": {},
   "outputs": [
    {
     "data": {
      "text/plain": [
       "102334155"
      ]
     },
     "execution_count": 7,
     "metadata": {},
     "output_type": "execute_result"
    }
   ],
   "source": [
    "fibBottomUp(40)\n"
   ]
  },
  {
   "cell_type": "code",
   "execution_count": 8,
   "metadata": {},
   "outputs": [],
   "source": [
    "def fibBottomUpSpaceSaving(n):\n",
    "    mem = [0, 1] # stores mem[i-1] and mem[i-2]\n",
    "    for i in range(2, n+1):\n",
    "        x = mem[0] + mem[1]\n",
    "        mem[0] = mem[1]\n",
    "        mem[1] = x\n",
    "    return mem[1]"
   ]
  },
  {
   "cell_type": "code",
   "execution_count": 9,
   "metadata": {},
   "outputs": [
    {
     "data": {
      "text/plain": [
       "102334155"
      ]
     },
     "execution_count": 9,
     "metadata": {},
     "output_type": "execute_result"
    }
   ],
   "source": [
    "fibBottomUpSpaceSaving(40)"
   ]
  },
  {
   "cell_type": "code",
   "execution_count": 10,
   "metadata": {},
   "outputs": [],
   "source": [
    "myG = [ [[1, 3], [2, 1]],\n",
    "      [[3, 1]],\n",
    "      [[3, 11]],\n",
    "      [[4, 1]],\n",
    "      [],\n",
    "      []]"
   ]
  },
  {
   "cell_type": "code",
   "execution_count": 11,
   "metadata": {},
   "outputs": [],
   "source": [
    "def revGraph(G):\n",
    "    revG = [ [] for _ in range(len(G))]\n",
    "    for i in range(len(G)):\n",
    "        for e in G[i]:\n",
    "            v = e[0]\n",
    "            weight = e[1]\n",
    "            revG[v].append([i, weight])\n",
    "    return revG"
   ]
  },
  {
   "cell_type": "code",
   "execution_count": 12,
   "metadata": {},
   "outputs": [],
   "source": [
    "def sPDAGHelper(revG, s, t):\n",
    "    if s==t:\n",
    "        return 0\n",
    "    elif len(revG[t])==0:\n",
    "        return float('infinity')\n",
    "    else:\n",
    "        best = float('infinity')\n",
    "        for e in revG[t]:\n",
    "            v = e[0]\n",
    "            weight = e[1]\n",
    "            best = min(best, sPDAGHelper(revG, s, v) + weight)\n",
    "        return best\n",
    "\n",
    "def shortestPathDAG(G, s, t):\n",
    "    return sPDAGHelper(revGraph(G), s, t)"
   ]
  },
  {
   "cell_type": "code",
   "execution_count": null,
   "metadata": {},
   "outputs": [],
   "source": [
    "shortestPathDAG(myG, 0, 3)"
   ]
  }
 ],
 "metadata": {
  "interpreter": {
   "hash": "622b9fb0e3cbaef914890509e4b446f9e64c58c7757c44de6100ef4106321f67"
  },
  "kernelspec": {
   "display_name": "Python 3",
   "language": "python",
   "name": "python3"
  },
  "language_info": {
   "codemirror_mode": {
    "name": "ipython",
    "version": 3
   },
   "file_extension": ".py",
   "mimetype": "text/x-python",
   "name": "python",
   "nbconvert_exporter": "python",
   "pygments_lexer": "ipython3",
   "version": "3.8.5"
  }
 },
 "nbformat": 4,
 "nbformat_minor": 2
}
